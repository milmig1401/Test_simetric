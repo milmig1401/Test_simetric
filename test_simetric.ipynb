{
 "cells": [
  {
   "cell_type": "code",
   "execution_count": 4,
   "metadata": {},
   "outputs": [],
   "source": [
    "import random,pandas as pd\n",
    "from functools import reduce"
   ]
  },
  {
   "cell_type": "code",
   "execution_count": 5,
   "metadata": {},
   "outputs": [],
   "source": [
    "class dayMatch:\n",
    "    def __init__(self,players):\n",
    "        self.players = players\n",
    "        self.subset = list(dict(self.players).values())\n",
    "        #Función constructora\n",
    "    \n",
    "    def firstGameResult(self):\n",
    "        seed=list()\n",
    "        while sum(seed)!=2:seed = [random.choice((0,1)) for i in range(0,3)]\n",
    "        return seed\n",
    "        # Aleatoriamente define los contrincantes en el primer partido\n",
    "    \n",
    "    def firstSumLists(self,result):\n",
    "        return [sum(i) for i in zip(*result)]\n",
    "        # Realiza la suma de cada uno de los elementos del vector result- usado para control de flujo y bandera\n",
    "    \n",
    "    def firstInverseData(self,vector=list()):\n",
    "        return [0 if vector[i]==1 else 1 for i in range(0,3)]\n",
    "        # Genera vector contrario al evaluado en el ciclo [0,0,0] ->[1,1,1]\n",
    "    \n",
    "    def firstOtherGamesResults(self,vector=list()):\n",
    "        tmp=list()\n",
    "        while sum(tmp)!=2:tmp = [1 if vector[i]==1 else random.choice((0,1)) for i in range(0,3)] \n",
    "        return tmp\n",
    "        # Aleatoriamiente genera los resultados para cada uno de los encuentros a evaluar en el ciclo\n",
    "    \n",
    "    def firstOrderListofList(self,lista=list()):\n",
    "        return lista.sort(key=lambda x: x[1])\n",
    "        # Para cada lista que ingresa al método se organizan sus valores por la posición 1\n",
    "    \n",
    "    def firstRenameDFResults(self,resultDF=list(),playersNames=list()):\n",
    "        resultDF[1] = playersNames[0]\n",
    "        return  resultDF\n",
    "        #Por cada valor de resultDF evaluado asigna valor de playersNames\n",
    "    \n",
    "    def firstPlayersMatchLose(self,result = pd.DataFrame,players=list()):\n",
    "        matchlose=pd.DataFrame()\n",
    "        for player in players:\n",
    "            tmp = (((pd.DataFrame([[player,i] for  i in result.index[result[player] == False].tolist()]).\n",
    "                  set_index(1).\n",
    "                  rename(columns = {0:'lose'}))))\n",
    "            matchlose = pd.concat([matchlose,tmp])\n",
    "        return matchlose\n",
    "        #A partir de DataFrame de resultados, se evalua que jugador pierde un partido jugado\n",
    "    \n",
    "    def firstTestResults(self):\n",
    "        flagresults=False\n",
    "        while flagresults ==False:\n",
    "            result,i= list(),0\n",
    "            while flagresults==False and len(result)<=42:\n",
    "                result.append(self.firstGameResult()) if i==0 else result.append(self.firstOtherGamesResults(self.firstInverseData(result[i-1])))\n",
    "                flagresults = set(self.subset).issubset(self.firstSumLists(result))\n",
    "                i+=1\n",
    "        return result,self.firstSumLists(result)\n",
    "        #Función en la que se evaluan aleatoriamente encuentros jugados hasta encontrar fit\n",
    "        \n",
    "    def firstTest(self):\n",
    "        result,sumresults = self.firstTestResults()\n",
    "        players = self.players\n",
    "        self.firstOrderListofList(players)\n",
    "        resultsbypos = [list(position) for position in enumerate(sumresults)]\n",
    "        self.firstOrderListofList(resultsbypos)\n",
    "        result = pd.DataFrame(result).rename(columns=dict(list(map(self.firstRenameDFResults,resultsbypos,players))))\n",
    "        result = result.merge(self.firstPlayersMatchLose(result,list(result.columns)),how='left', left_index=True, right_index=True)\n",
    "        return result\n",
    "        #Ejecución de rutina para generación de resultados"
   ]
  },
  {
   "cell_type": "code",
   "execution_count": 6,
   "metadata": {},
   "outputs": [],
   "source": [
    "dayMatchs = dayMatch([['Ana',17],['José',15],['Juan',10]])\n",
    "results = dayMatchs.firstTest()\n",
    "with open(r'results/results.json', 'w', encoding='utf-8') as file:\n",
    "    results.to_json(file,orient=\"index\",force_ascii=False)\n",
    "#sabana de resultados   \n",
    "with open(r'results/match.json', 'w', encoding='utf-8') as file:\n",
    "    results.loc[2].to_json(file,orient=\"index\",force_ascii=False)  \n",
    "#resultado_segundo partido"
   ]
  },
  {
   "cell_type": "code",
   "execution_count": 7,
   "metadata": {},
   "outputs": [],
   "source": [
    "#Segundo Test\n",
    "#Se extrae el resultado del archivo keylog.txt buscando las claves disponibles\n",
    "secuence = (((pd.read_csv(r'data_sources/keylog.txt',dtype = str)['secuencias'].str.split(\"\", n = 3, expand =False))))\n",
    "secuence = pd.DataFrame(secuence).explode('secuencias')\n",
    "secuence = secuence[secuence['secuencias']!=\"\"].values.tolist()\n",
    "secuence = reduce(lambda x,y: x+y,secuence)"
   ]
  },
  {
   "cell_type": "code",
   "execution_count": null,
   "metadata": {},
   "outputs": [],
   "source": []
  }
 ],
 "metadata": {
  "kernelspec": {
   "display_name": "Python 3",
   "language": "python",
   "name": "python3"
  },
  "language_info": {
   "codemirror_mode": {
    "name": "ipython",
    "version": 3
   },
   "file_extension": ".py",
   "mimetype": "text/x-python",
   "name": "python",
   "nbconvert_exporter": "python",
   "pygments_lexer": "ipython3",
   "version": "3.7.6"
  }
 },
 "nbformat": 4,
 "nbformat_minor": 4
}
